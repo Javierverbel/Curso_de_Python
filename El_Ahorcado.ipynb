{
  "nbformat": 4,
  "nbformat_minor": 0,
  "metadata": {
    "colab": {
      "name": "El_Ahorcado.ipynb",
      "provenance": [],
      "authorship_tag": "ABX9TyMKpCdJ7x8kB5bV4bxQqnua",
      "include_colab_link": true
    },
    "kernelspec": {
      "name": "python3",
      "display_name": "Python 3"
    }
  },
  "cells": [
    {
      "cell_type": "markdown",
      "metadata": {
        "id": "view-in-github",
        "colab_type": "text"
      },
      "source": [
        "<a href=\"https://colab.research.google.com/github/garestrear/Curso_de_Python/blob/master/El_Ahorcado.ipynb\" target=\"_parent\"><img src=\"https://colab.research.google.com/assets/colab-badge.svg\" alt=\"Open In Colab\"/></a>"
      ]
    },
    {
      "cell_type": "code",
      "metadata": {
        "id": "_VrPP-1sWsO_",
        "colab_type": "code",
        "colab": {
          "base_uri": "https://localhost:8080/",
          "height": 442
        },
        "outputId": "b57d0511-d94e-4524-b5d4-3dcd3f974c1f"
      },
      "source": [
        "#importamos el módulo time\n",
        "import time\n",
        "\n",
        "#Bienvenida para el usuario.\n",
        "nombre = input(\"Cual es tu nombre? \")\n",
        "\n",
        "print(\"Hola, \" + nombre, \"Vamos a jugar al ahorcado!\")\n",
        "\n",
        "print(\" \")\n",
        "\n",
        "#Hacemos una pausa de un segundo.\n",
        "time.sleep(1)\n",
        "\n",
        "print(\"Empecemos a adivinar...\")\n",
        "time.sleep(0.5)\n",
        "\n",
        "#Aqui escondemos la palabra.\n",
        "palabra = \"python\"\n",
        "\n",
        "#creamos una variable con una cadena vacia\n",
        "aciertos = ''\n",
        "\n",
        "#determinamos el numero de turnos\n",
        "turnos = 10\n",
        "\n",
        "# Creamos un loop while\n",
        "\n",
        "#revisamos que los turnos sean mayores que cero.\n",
        "while turnos > 0:         \n",
        "\n",
        "    # empezamos a contar el numero de fallas\n",
        "    fallas = 0             \n",
        "\n",
        "    # para toda letra en la palabra secreta   \n",
        "    for letra in palabra:      \n",
        "\n",
        "    # vemos si la letra esta dentro de las que el jugardor ya adivino\n",
        "        if letra in aciertos:    \n",
        "    \n",
        "        # imprimimos la letra\n",
        "            print(letra, end= '')    \n",
        "\n",
        "        else:\n",
        "    \n",
        "        # si no ponemos un guion bajo.\n",
        "            print(\" _ \", end= '')\n",
        "       \n",
        "        # e incrementamos el numero de fallas\n",
        "            fallas += 1    \n",
        "\n",
        "    # si las fallas son iguales a cero\n",
        "\n",
        "    # Imprimimos que el usuario gano.\n",
        "    if fallas == 0:\n",
        "        print(\" \")      \n",
        "        print(\"Ganaste!\")\n",
        "\n",
        "    # terminamos el programa\n",
        "        break              \n",
        "\n",
        "    print(\"\")\n",
        "\n",
        "    # Le pedimos al usuario adivinar una letra\n",
        "    letra = input(\"Adivina una letra:\") \n",
        "\n",
        "    # agregamos la letra a los aciertos\n",
        "    aciertos += letra                    \n",
        "\n",
        "    # si la letra no esta en la palabra secreta\n",
        "    if letra not in palabra:  \n",
        " \n",
        "     # hacemos que pierna un turno 1 (ahora 9)\n",
        "        turnos -= 1        \n",
        " \n",
        "    # imprimimos error\n",
        "        print(\" \")\n",
        "        print(\"Error.\")    \n",
        " \n",
        "    # le mostramos al usuario cuantos turnos le quedan\n",
        "        print(\"Tienes\", + turnos, 'turnos mas.')\n",
        " \n",
        "    # si los turnos se acaban\n",
        "        if turnos == 0:           \n",
        "    \n",
        "        # imprimimos que perdio.\n",
        "            print(\" \")\n",
        "            print(\"Perdiste.\")"
      ],
      "execution_count": 7,
      "outputs": [
        {
          "output_type": "stream",
          "text": [
            "Cual es tu nombre? mario\n",
            "Hola, mario Vamos a jugar al ahorcado!\n",
            " \n",
            "Empecemos a adivinar...\n",
            " _  _  _  _  _  _ \n",
            "Adivina una letra:f\n",
            "Error.\n",
            "Tienes 9 turnos mas.\n",
            " _  _  _  _  _  _ \n",
            "Adivina una letra:o\n",
            " _  _  _  _ o _ \n",
            "Adivina una letra:y\n",
            " _ y _  _ o _ \n",
            "Adivina una letra:p\n",
            "py _  _ o _ \n",
            "Adivina una letra:s\n",
            "Error.\n",
            "Tienes 8 turnos mas.\n",
            "py _  _ o _ \n",
            "Adivina una letra:t\n",
            "pyt _ o _ \n",
            "Adivina una letra:h\n",
            "pytho _ \n",
            "Adivina una letra:n\n",
            "pythonGanaste!\n"
          ],
          "name": "stdout"
        }
      ]
    },
    {
      "cell_type": "code",
      "metadata": {
        "id": "RrKuE3SEWxQN",
        "colab_type": "code",
        "colab": {}
      },
      "source": [
        ""
      ],
      "execution_count": null,
      "outputs": []
    }
  ]
}