{
  "nbformat": 4,
  "nbformat_minor": 0,
  "metadata": {
    "colab": {
      "name": "GeneraciónYAlmacenamientoDeContraseñas.ipynb",
      "provenance": [],
      "authorship_tag": "ABX9TyP/S3/pG2Im7D5EbeCKlPOX",
      "include_colab_link": true
    },
    "kernelspec": {
      "name": "python3",
      "display_name": "Python 3"
    }
  },
  "cells": [
    {
      "cell_type": "markdown",
      "metadata": {
        "id": "view-in-github",
        "colab_type": "text"
      },
      "source": [
        "<a href=\"https://colab.research.google.com/github/garestrear/Curso_de_Python/blob/master/Generaci%C3%B3nYAlmacenamientoDeContrase%C3%B1as.ipynb\" target=\"_parent\"><img src=\"https://colab.research.google.com/assets/colab-badge.svg\" alt=\"Open In Colab\"/></a>"
      ]
    },
    {
      "cell_type": "markdown",
      "metadata": {
        "id": "JjD4vVOOo-st",
        "colab_type": "text"
      },
      "source": [
        "# **Generación y almacenamiento de contraseñas**"
      ]
    },
    {
      "cell_type": "markdown",
      "metadata": {
        "id": "0cu4WcdkpU5k",
        "colab_type": "text"
      },
      "source": [
        "# Módulo **secrets**"
      ]
    },
    {
      "cell_type": "code",
      "metadata": {
        "id": "HuYFVO2ETV64",
        "colab_type": "code",
        "colab": {}
      },
      "source": [
        "import secrets"
      ],
      "execution_count": 1,
      "outputs": []
    },
    {
      "cell_type": "markdown",
      "metadata": {
        "id": "aS9uFQuPqwPc",
        "colab_type": "text"
      },
      "source": [
        "Corre las celdas"
      ]
    },
    {
      "cell_type": "code",
      "metadata": {
        "id": "S_8_7YrLTijL",
        "colab_type": "code",
        "colab": {}
      },
      "source": [
        "ToDo = ['sacar el perro', 'estudiar pyhton', 'bañarme', 'ejercicio']\n",
        "Do = secrets.choice(ToDo) # Escoge aleatoriamente un elemento de la lista ToDo\n",
        "print('Lo que debo hacer es:', Do)"
      ],
      "execution_count": null,
      "outputs": []
    },
    {
      "cell_type": "code",
      "metadata": {
        "id": "6DVDO7f7UlbD",
        "colab_type": "code",
        "colab": {}
      },
      "source": [
        "Dos = secrets.SystemRandom().sample(ToDo, 3)\n",
        "print('Hoy debo:' + Dos[0] + ', ' + Dos[1] + ' y ' + Dos[2])"
      ],
      "execution_count": null,
      "outputs": []
    },
    {
      "cell_type": "markdown",
      "metadata": {
        "id": "9L8hXMUOpnld",
        "colab_type": "text"
      },
      "source": [
        "# Módulo **string**"
      ]
    },
    {
      "cell_type": "code",
      "metadata": {
        "id": "n7VV3psDUw3Z",
        "colab_type": "code",
        "colab": {}
      },
      "source": [
        "import string"
      ],
      "execution_count": 7,
      "outputs": []
    },
    {
      "cell_type": "markdown",
      "metadata": {
        "id": "E7jcxGlRq_MV",
        "colab_type": "text"
      },
      "source": [
        "**Corre las celdas**"
      ]
    },
    {
      "cell_type": "code",
      "metadata": {
        "id": "PEOm7boQVeHR",
        "colab_type": "code",
        "colab": {}
      },
      "source": [
        "string.ascii_letters # Genera un string que contiene las primeras letras del abecedario en mayúscula y minúscula, exceptuando la ñ\n",
        "print(string.ascii_letters)"
      ],
      "execution_count": null,
      "outputs": []
    },
    {
      "cell_type": "code",
      "metadata": {
        "id": "soXaSDdMWrRQ",
        "colab_type": "code",
        "colab": {}
      },
      "source": [
        "string.digits # Genera un string que contiene los números enteros del 0 al 9\n",
        "print(string.digits)"
      ],
      "execution_count": null,
      "outputs": []
    },
    {
      "cell_type": "code",
      "metadata": {
        "id": "zaamEC3GW8NB",
        "colab_type": "code",
        "colab": {}
      },
      "source": [
        "string.ascii_lowercase\n",
        "print(string.ascii_lowercase)"
      ],
      "execution_count": null,
      "outputs": []
    },
    {
      "cell_type": "code",
      "metadata": {
        "id": "h-Iqg1LuXJCg",
        "colab_type": "code",
        "colab": {}
      },
      "source": [
        "string.ascii_lowercase\n",
        "print(string.ascii_lowercase)"
      ],
      "execution_count": null,
      "outputs": []
    },
    {
      "cell_type": "code",
      "metadata": {
        "id": "rMwsHNo_XQJY",
        "colab_type": "code",
        "colab": {}
      },
      "source": [
        "string.hexdigits\n",
        "print(string.hexdigits)"
      ],
      "execution_count": null,
      "outputs": []
    },
    {
      "cell_type": "code",
      "metadata": {
        "id": "erApcF7hWuTZ",
        "colab_type": "code",
        "colab": {}
      },
      "source": [
        "string.punctuation # Genera signos de puntuación y otros caracteres\n",
        "print(string.punctuation)"
      ],
      "execution_count": null,
      "outputs": []
    },
    {
      "cell_type": "markdown",
      "metadata": {
        "id": "bG6Pr3OOYT7o",
        "colab_type": "text"
      },
      "source": [
        " ***Tu turno:***  Usando string.digits , string.ascii_lowercase, string.ascii_uppercase y string.punctuation genera en la siguiente celda una cadena que contenga todos estos."
      ]
    },
    {
      "cell_type": "code",
      "metadata": {
        "id": "8lcAQU7wYTqv",
        "colab_type": "code",
        "colab": {}
      },
      "source": [
        "cadena = "
      ],
      "execution_count": null,
      "outputs": []
    },
    {
      "cell_type": "markdown",
      "metadata": {
        "id": "ookYBZM_aIww",
        "colab_type": "text"
      },
      "source": [
        "***Tu turno:*** Intenta aplicar bytes() \n",
        "ingresando una lista sencilla (ingresa elementos a la lista vacía dada)"
      ]
    },
    {
      "cell_type": "code",
      "metadata": {
        "id": "PD8CmtVmYlbo",
        "colab_type": "code",
        "colab": {}
      },
      "source": [
        "bytes([ ])"
      ],
      "execution_count": null,
      "outputs": []
    },
    {
      "cell_type": "markdown",
      "metadata": {
        "id": "J7rlK6s4xjXz",
        "colab_type": "text"
      },
      "source": [
        "# Librería **criptography**"
      ]
    },
    {
      "cell_type": "markdown",
      "metadata": {
        "id": "MyPRt-bna0ag",
        "colab_type": "text"
      },
      "source": [
        "Instalamos la libreria **criptography**"
      ]
    },
    {
      "cell_type": "code",
      "metadata": {
        "id": "Y3v48-rGaSGX",
        "colab_type": "code",
        "colab": {}
      },
      "source": [
        "pip install cryptography"
      ],
      "execution_count": null,
      "outputs": []
    },
    {
      "cell_type": "markdown",
      "metadata": {
        "id": "_yBho-Odxt5h",
        "colab_type": "text"
      },
      "source": [
        "Importamos la clase **Fernet** "
      ]
    },
    {
      "cell_type": "code",
      "metadata": {
        "id": "iQODn67lawrH",
        "colab_type": "code",
        "colab": {}
      },
      "source": [
        "from cryptography.fernet import Fernet"
      ],
      "execution_count": 20,
      "outputs": []
    },
    {
      "cell_type": "code",
      "metadata": {
        "id": "egOcEUG7bC3e",
        "colab_type": "code",
        "colab": {}
      },
      "source": [
        "mi_llave = Fernet.generate_key()"
      ],
      "execution_count": 21,
      "outputs": []
    },
    {
      "cell_type": "markdown",
      "metadata": {
        "id": "1R8B4NCobOCf",
        "colab_type": "text"
      },
      "source": [
        "Guardamos la llave en un archivo .txt"
      ]
    },
    {
      "cell_type": "code",
      "metadata": {
        "id": "_dB2cABkbLbn",
        "colab_type": "code",
        "colab": {}
      },
      "source": [
        "Llave = open('llave.txt', 'wb+')\n",
        "Llave.write(mi_llave)"
      ],
      "execution_count": null,
      "outputs": []
    },
    {
      "cell_type": "markdown",
      "metadata": {
        "id": "T9lpv29sbW1n",
        "colab_type": "text"
      },
      "source": [
        "Vamos a leer la llave para poder usarla encriptando y desencriptando"
      ]
    },
    {
      "cell_type": "code",
      "metadata": {
        "id": "uKlPFGrFbTdX",
        "colab_type": "code",
        "colab": {}
      },
      "source": [
        "Llave = open('llave.txt', 'rb+')\n",
        "mi_llave = Llave.read()"
      ],
      "execution_count": 24,
      "outputs": []
    },
    {
      "cell_type": "markdown",
      "metadata": {
        "id": "C8q-DIKncUqg",
        "colab_type": "text"
      },
      "source": [
        "***Tu turno:*** Intenta encriptar un mensaje\n",
        "\n"
      ]
    },
    {
      "cell_type": "code",
      "metadata": {
        "id": "8bROoDmIbiFP",
        "colab_type": "code",
        "colab": {}
      },
      "source": [
        "mensaje = '' # Ingresa  aquí tu mensaje.\n",
        "fernet_llave = Fernet(mi_llave)\n",
        "token = fernet_llave.encrypt(bytes(mensaje, 'ascii'))\n",
        "print(token)"
      ],
      "execution_count": null,
      "outputs": []
    },
    {
      "cell_type": "markdown",
      "metadata": {
        "id": "4WQ8S0i8duhg",
        "colab_type": "text"
      },
      "source": [
        "Para desencriptar el mensaje sigue los siguientes pasos"
      ]
    },
    {
      "cell_type": "code",
      "metadata": {
        "id": "kQRDbT7RdCoH",
        "colab_type": "code",
        "colab": {}
      },
      "source": [
        "fernet_llave.decrypt(token)"
      ],
      "execution_count": null,
      "outputs": []
    },
    {
      "cell_type": "markdown",
      "metadata": {
        "id": "mjmAVJ2K0HVi",
        "colab_type": "text"
      },
      "source": [
        "# **Contraseñas**"
      ]
    },
    {
      "cell_type": "markdown",
      "metadata": {
        "id": "2SE_VAEzeFIf",
        "colab_type": "text"
      },
      "source": [
        "Ingresa a la página [how secure is my password?](https://howsecureismypassword.net) y ve qué tan seguras son las siguientes contraseñas.\n",
        "*   12345\n",
        "*   g^\\j5~pcZ^\n",
        "*   7\\#E7-fD=d"
      ]
    },
    {
      "cell_type": "markdown",
      "metadata": {
        "id": "ZHyMJx8BfElW",
        "colab_type": "text"
      },
      "source": [
        "El siguiente es un programa sencillo, pero **ingenuo** para generar contraseñas"
      ]
    },
    {
      "cell_type": "code",
      "metadata": {
        "id": "fEXr_uL7fDoe",
        "colab_type": "code",
        "colab": {}
      },
      "source": [
        "cadena = string.ascii_letters + string.digits + string.punctuation\n",
        "longitud = 10\n",
        "contrasenha = ''\n",
        "for numero in range(longitud):\n",
        "  contrasenha += secrets.choice(cadena)\n",
        "print(contrasenha)"
      ],
      "execution_count": null,
      "outputs": []
    },
    {
      "cell_type": "markdown",
      "metadata": {
        "id": "Nz9iK8ud06Tq",
        "colab_type": "text"
      },
      "source": [
        "Creando una función que nos ayudará a crear mejores contraseñas"
      ]
    },
    {
      "cell_type": "code",
      "metadata": {
        "id": "8E6wjrvXd-gu",
        "colab_type": "code",
        "colab": {}
      },
      "source": [
        "def ispunctuation(caracter):\n",
        "    if caracter in string.punctuation:\n",
        "        return True"
      ],
      "execution_count": 42,
      "outputs": []
    },
    {
      "cell_type": "markdown",
      "metadata": {
        "id": "vpooACgG1WEx",
        "colab_type": "text"
      },
      "source": [
        "Hagamos uso de la función anterior para crear un mejor generador de contraseñas"
      ]
    },
    {
      "cell_type": "code",
      "metadata": {
        "id": "kzqztvang4tN",
        "colab_type": "code",
        "colab": {}
      },
      "source": [
        "longitud = int(input('Longitud que desea para su contraseña (solo enteros mayores que 12): '))\n",
        "while True:\n",
        "    contrasena = ''.join(secrets.choice(cadena) for i in range(longitud))\n",
        "    if (any(c.islower() for c in contrasena)\n",
        "      and any(c.isupper() for c in contrasena)\n",
        "      and sum(c.isdigit() for c in contrasena) >= 1\n",
        "      and any(ispunctuation(c) for c in contrasena) \n",
        "      and all(contrasena[k] != contrasena[k-1] for k in range(1, longitud - 1))):\n",
        "        break\n",
        "print(contrasena)"
      ],
      "execution_count": null,
      "outputs": []
    },
    {
      "cell_type": "markdown",
      "metadata": {
        "id": "NJesqXCTjSUG",
        "colab_type": "text"
      },
      "source": [
        "¿Como mejorar el programa anterior?"
      ]
    },
    {
      "cell_type": "code",
      "metadata": {
        "id": "YwdoGoh_hfIG",
        "colab_type": "code",
        "colab": {}
      },
      "source": [
        "def contrasena(llave):\n",
        "    usuario = str(input('Ingrese su usuario: '))\n",
        "    cuenta = str(input('Ingrese cuenta: '))\n",
        "    longitud = int(input('Ingrese la longitud que desea para su contraseña (solo enteros mayores que 12):'))\n",
        "    while True:\n",
        "        contrasena = ''.join(secrets.choice(cadena) for i in range(longitud))\n",
        "        if (any(c.islower() for c in contrasena) \n",
        "        and any(c.isupper() for c in contrasena) \n",
        "        and sum(c.isdigit() for c in contrasena) >= 1 \n",
        "        and any(ispunctuation(c) for c in contrasena) \n",
        "        and all(contrasena[k] != contrasena[k-1] for k in range(1, longitud - 1))):\n",
        "            break\n",
        "    texto_a_cifrar = '   usuario: ' + usuario + '   cuenta: ' + cuenta + '   contrasenha: ' + contrasena + '   '\n",
        "    Fernet_llave = Fernet(llave)\n",
        "    texto_cifrado = Fernet_llave.encrypt(bytes(texto_a_cifrar, 'ascii'))\n",
        "    texto = open('contraseña.txt', 'ab+')\n",
        "    return texto.write(texto_cifrado)"
      ],
      "execution_count": 51,
      "outputs": []
    },
    {
      "cell_type": "code",
      "metadata": {
        "id": "8ywa2OwpkIrk",
        "colab_type": "code",
        "colab": {}
      },
      "source": [
        "contrasena(mi_llave)"
      ],
      "execution_count": null,
      "outputs": []
    },
    {
      "cell_type": "markdown",
      "metadata": {
        "id": "c1uBgGv3kyJ1",
        "colab_type": "text"
      },
      "source": [
        "¿Podemos mejorar aún más el programa?"
      ]
    },
    {
      "cell_type": "code",
      "metadata": {
        "id": "FatXDRDykOKm",
        "colab_type": "code",
        "colab": {}
      },
      "source": [
        "def contrasena():\n",
        "    usuario = str(input('Ingrese su usuario: '))\n",
        "    cuenta = str(input('Ingrese cuenta: '))\n",
        "    longitud = int(input('Ingrese la longitud que desea para su contraseña (solo enteros mayores que 12):'))\n",
        "    while True:\n",
        "        contrasena = ''.join(secrets.choice(cadena) for i in range(longitud))\n",
        "        if (any(c.islower() for c in contrasena) \n",
        "        and any(c.isupper() for c in contrasena) \n",
        "        and sum(c.isdigit() for c in contrasena) >= 1 \n",
        "        and any(ispunctuation(c) for c in contrasena) \n",
        "        and all(contrasena[k] != contrasena[k-1] for k in range(1, longitud - 1))):\n",
        "            break\n",
        "    return '   usuario: ' + usuario + '   cuenta: ' + cuenta + '   contrasenha: ' + contrasena + '   '\n",
        "\n",
        "def contrasenas(llave):\n",
        "    veces = int(input('Ingrese número de contraseñas a crear: '))\n",
        "    texto = open('contraseñas.txt', 'ab+')\n",
        "    for k in range(veces):\n",
        "        texto_a_cifrar = contrasena()\n",
        "        conjunto_de_cifrado = Fernet(llave)\n",
        "        texto_cifrado = conjunto_de_cifrado.encrypt(bytes(texto_a_cifrar, 'ascii'))\n",
        "        texto.write(texto_cifrado)\n",
        "        texto.write(b'\\n')"
      ],
      "execution_count": 54,
      "outputs": []
    },
    {
      "cell_type": "code",
      "metadata": {
        "id": "XsrcmX1Olaf9",
        "colab_type": "code",
        "colab": {}
      },
      "source": [
        "contrasenas(mi_llave)"
      ],
      "execution_count": null,
      "outputs": []
    },
    {
      "cell_type": "markdown",
      "metadata": {
        "id": "-VgsN4iklvJE",
        "colab_type": "text"
      },
      "source": [
        "***Tu turno:*** Desencriptalas!"
      ]
    },
    {
      "cell_type": "code",
      "metadata": {
        "id": "vQ_aw-53lhVl",
        "colab_type": "code",
        "colab": {}
      },
      "source": [
        "para_desencriptar = open(' ', 'rb') # Ingresa el nombre del archivo\n",
        "informacion = para_desencriptar.readlines()\n",
        "conjunto_de_cifrado = Fernet( ) # Ingresa la llave\n",
        "for k in range(len(informacion)):\n",
        "  print(conjunto_de_cifrado.decrypt(informacion[k]))"
      ],
      "execution_count": null,
      "outputs": []
    }
  ]
}