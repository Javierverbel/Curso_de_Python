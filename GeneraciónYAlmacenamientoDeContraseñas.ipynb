{
  "nbformat": 4,
  "nbformat_minor": 0,
  "metadata": {
    "colab": {
      "name": "GeneraciónYAlmacenamientoDeContraseñas.ipynb",
      "provenance": [],
      "include_colab_link": true
    },
    "kernelspec": {
      "name": "python3",
      "display_name": "Python 3"
    }
  },
  "cells": [
    {
      "cell_type": "markdown",
      "metadata": {
        "id": "view-in-github",
        "colab_type": "text"
      },
      "source": [
        "<a href=\"https://colab.research.google.com/github/garestrear/Curso_de_Python/blob/master/Generaci%C3%B3nYAlmacenamientoDeContrase%C3%B1as.ipynb\" target=\"_parent\"><img src=\"https://colab.research.google.com/assets/colab-badge.svg\" alt=\"Open In Colab\"/></a>"
      ]
    },
    {
      "cell_type": "markdown",
      "metadata": {
        "id": "JjD4vVOOo-st",
        "colab_type": "text"
      },
      "source": [
        "![Generación y almacenamiento de contraseñas](https://raw.githubusercontent.com/garestrear/Curso_de_Python/master/S4_Contrasenhas.png)"
      ]
    },
    {
      "cell_type": "markdown",
      "metadata": {
        "id": "rhtJ_ric40tn",
        "colab_type": "text"
      },
      "source": [
        "<h1> <center > ¿Qué es cifrar? </center> </h1>\n",
        "\n",
        "El cifrado es un método para ocultar información para que nadie que no conozca la llave pueda leerla. La llave se usa para bloquear y desbloquear dicha información. \n",
        "\n",
        "Para cifrar un dato, aplicamos un algoritmo (criptográfico) que convierte tal información en símbolos que parecen que no tienen ningún sentido para cualquiera que no sepa cómo revertir las operaciones. \n",
        "\n",
        "En internet, el cifrado se utiliza para datos sensibles, como un número de tarjeta de crédito o tu contraseña de correo electrónico, y luego enviarlos a través de la red. De esta manera, nadie puede interceptar y leer los datos mientras viaja por la web. El destinatario de los datos tiene que saber cómo descifrar la información o, de lo contrario, los datos también se verán como basura para el destinatario."
      ]
    },
    {
      "cell_type": "markdown",
      "metadata": {
        "id": "0cu4WcdkpU5k",
        "colab_type": "text"
      },
      "source": [
        "1. Módulo `secrets`\n",
        "\n",
        "El módulo `secrets` de Python es usado para generar datos aleatorios seguros (criptográficamente fuertes) para administrar contraseñas, autenticación de cuentas o tokens de seguridad.\n",
        "\n",
        "En particular, `secrets` debe usarse con preferencia al generador de números pseudoaleatorio predeterminado en el módulo **random*, que está diseñado para modelar y simular, no para seguridad o criptografía.\n",
        "\n",
        "Este módulo proporciona acceso a la fuente de aleatoriedad más segura que proporciona tu sistema operativo."
      ]
    },
    {
      "cell_type": "code",
      "metadata": {
        "id": "HuYFVO2ETV64",
        "colab_type": "code",
        "colab": {}
      },
      "source": [
        "import secrets"
      ],
      "execution_count": null,
      "outputs": []
    },
    {
      "cell_type": "markdown",
      "metadata": {
        "id": "aS9uFQuPqwPc",
        "colab_type": "text"
      },
      "source": [
        "En **secrets** encontramos la clase **random.SystemRandom**, la cual genera números aleatorios utilizando las fuentes de mayor calidad proporcionadas por el sistema operativo.\n",
        " En particular usaremos el método **choice** de la clase **random.SystemRandom**, este nos permitirá escoger de forma aleatoria un elemento de una secuencia (lista, string, etc.) no vacía."
      ]
    },
    {
      "cell_type": "code",
      "metadata": {
        "id": "S_8_7YrLTijL",
        "colab_type": "code",
        "colab": {}
      },
      "source": [
        "ToDo = ['sacar el perro', 'estudiar pyhton', 'bañarme', 'ejercicio']\n",
        "Do = secrets.choice(ToDo) # Escoge aleatoriamente un elemento de la lista ToDo\n",
        "print('Lo que debo hacer es:', Do)"
      ],
      "execution_count": null,
      "outputs": []
    },
    {
      "cell_type": "code",
      "metadata": {
        "id": "6DVDO7f7UlbD",
        "colab_type": "code",
        "colab": {}
      },
      "source": [
        "Dos = secrets.SystemRandom().sample(ToDo, 3)\n",
        "print('Hoy debo:' + Dos[0] + ', ' + Dos[1] + ' y ' + Dos[2])"
      ],
      "execution_count": null,
      "outputs": []
    },
    {
      "cell_type": "markdown",
      "metadata": {
        "id": "xSAX46Q5uRv4",
        "colab_type": "text"
      },
      "source": [
        "***Tu turno:*** Intenta aplicar **secrets.SystemRandom().sample()** ingresando como primer parámetro la lista **ToDo** y como segundo parámetro un número entero entre 1 y 4. \n",
        "\n",
        "*Tal vez intentar:* **secrets.SystemRandom().sample(ToDo, 2)**"
      ]
    },
    {
      "cell_type": "code",
      "metadata": {
        "id": "7me2Ru3zu0O6",
        "colab_type": "code",
        "colab": {}
      },
      "source": [
        "# Aplicar secrets.SystemRandom().sample() a la lista ToDo.\n"
      ],
      "execution_count": null,
      "outputs": []
    },
    {
      "cell_type": "markdown",
      "metadata": {
        "id": "9L8hXMUOpnld",
        "colab_type": "text"
      },
      "source": [
        "# 2. Módulo **string**\n",
        "\n",
        "El módulo **string** contiene algunas constantes, funciones y clases para manipular caracteres.\n",
        "\n",
        "Al ser un módulo propio de Python, hay que importarlo antes de usar sus constantes o clases."
      ]
    },
    {
      "cell_type": "code",
      "metadata": {
        "id": "n7VV3psDUw3Z",
        "colab_type": "code",
        "colab": {}
      },
      "source": [
        "import string"
      ],
      "execution_count": null,
      "outputs": []
    },
    {
      "cell_type": "markdown",
      "metadata": {
        "id": "E7jcxGlRq_MV",
        "colab_type": "text"
      },
      "source": [
        "Veamos algunas constantes"
      ]
    },
    {
      "cell_type": "code",
      "metadata": {
        "id": "PEOm7boQVeHR",
        "colab_type": "code",
        "colab": {}
      },
      "source": [
        "string.ascii_letters # Genera un string que contiene las primeras letras del abecedario en mayúscula y minúscula, exceptuando la ñ\n",
        "print(string.ascii_letters)\n",
        "\n",
        "string.digits # Genera un string que contiene los números enteros del 0 al 9\n",
        "print(string.digits)\n",
        "\n",
        "string.punctuation # Genera signos de puntuación y otros caracteres\n",
        "print(string.punctuation)"
      ],
      "execution_count": null,
      "outputs": []
    },
    {
      "cell_type": "markdown",
      "metadata": {
        "id": "bG6Pr3OOYT7o",
        "colab_type": "text"
      },
      "source": [
        " ***Tu turno:***  Usando string.digits , string.ascii_lowercase, string.ascii_uppercase y string.punctuation genera en la siguiente celda una cadena que contenga todos estos."
      ]
    },
    {
      "cell_type": "code",
      "metadata": {
        "id": "8lcAQU7wYTqv",
        "colab_type": "code",
        "colab": {}
      },
      "source": [
        "# Recuerda que podemos \"pegar\" o unir strings haciendo uso de la suma +\n",
        "cadena = "
      ],
      "execution_count": null,
      "outputs": []
    },
    {
      "cell_type": "markdown",
      "metadata": {
        "id": "X2UD8vjvwwSA",
        "colab_type": "text"
      },
      "source": [
        "# 3. Función **bytes()**\n",
        "\n",
        "La función **bytes()** regresa un objeto en bytes (conjunto de 8 bits) inicializado con el tamaño y los datos dados,\n",
        "los cuales pueden ser un entero, una cadena, una lista, entre otros."
      ]
    },
    {
      "cell_type": "code",
      "metadata": {
        "id": "r_0jXBNYxJwO",
        "colab_type": "code",
        "colab": {}
      },
      "source": [
        "frase = \"Python es interesante.\"\n",
        "# Cadena codificada con ascii\n",
        "arr = bytes(frase, 'ascii')\n",
        "print(arr)"
      ],
      "execution_count": null,
      "outputs": []
    },
    {
      "cell_type": "markdown",
      "metadata": {
        "id": "ookYBZM_aIww",
        "colab_type": "text"
      },
      "source": [
        "***Tu turno:*** Intenta aplicar bytes() \n",
        "ingresando una lista sencilla (ingresa elementos a la lista vacía dada)"
      ]
    },
    {
      "cell_type": "code",
      "metadata": {
        "id": "PD8CmtVmYlbo",
        "colab_type": "code",
        "colab": {}
      },
      "source": [
        "# Ingresa elementos a la lista\n",
        "by = bytes([ ])\n",
        "print(by)"
      ],
      "execution_count": null,
      "outputs": []
    },
    {
      "cell_type": "markdown",
      "metadata": {
        "id": "J7rlK6s4xjXz",
        "colab_type": "text"
      },
      "source": [
        "# 4. Librería **criptography**"
      ]
    },
    {
      "cell_type": "markdown",
      "metadata": {
        "id": "MyPRt-bna0ag",
        "colab_type": "text"
      },
      "source": [
        "Instalamos la libreria **criptography**"
      ]
    },
    {
      "cell_type": "code",
      "metadata": {
        "id": "Y3v48-rGaSGX",
        "colab_type": "code",
        "colab": {}
      },
      "source": [
        "pip install cryptography"
      ],
      "execution_count": null,
      "outputs": []
    },
    {
      "cell_type": "markdown",
      "metadata": {
        "id": "_yBho-Odxt5h",
        "colab_type": "text"
      },
      "source": [
        "Clase **Fernet** \n",
        "\n",
        "**Fernet** garantiza que un mensaje encriptado no se puede leer o manipular sin la \"llave\" (key).\n",
        "Esta clase permite encriptar y desencriptar."
      ]
    },
    {
      "cell_type": "code",
      "metadata": {
        "id": "iQODn67lawrH",
        "colab_type": "code",
        "colab": {}
      },
      "source": [
        "from cryptography.fernet import Fernet"
      ],
      "execution_count": null,
      "outputs": []
    },
    {
      "cell_type": "markdown",
      "metadata": {
        "id": "DtR7xYQ-zAGx",
        "colab_type": "text"
      },
      "source": [
        "Primero se debe generar la \"llave\".\n",
        "¡Es importante mantenerla en un lugar seguro! (se puede guardar en una memoria por ejemplo).\n",
        "\n",
        "*Si se pierde ya no serás capaz de desencriptar los mensajes.*\n",
        "\n",
        "*Si alguien más tiene acceso a esta, entonces podrá desencriptar tus mensajes*."
      ]
    },
    {
      "cell_type": "code",
      "metadata": {
        "id": "egOcEUG7bC3e",
        "colab_type": "code",
        "colab": {}
      },
      "source": [
        "mi_llave = Fernet.generate_key()"
      ],
      "execution_count": null,
      "outputs": []
    },
    {
      "cell_type": "markdown",
      "metadata": {
        "id": "1R8B4NCobOCf",
        "colab_type": "text"
      },
      "source": [
        "¡Cada vez que se ejecuta el paso anterior se genera una nueva llave!\n",
        "\n",
        "Guardamos la llave en un archivo .txt"
      ]
    },
    {
      "cell_type": "code",
      "metadata": {
        "id": "_dB2cABkbLbn",
        "colab_type": "code",
        "colab": {}
      },
      "source": [
        "with open('llave.txt', 'wb+') as Llave:\n",
        "  Llave.write(mi_llave)"
      ],
      "execution_count": null,
      "outputs": []
    },
    {
      "cell_type": "markdown",
      "metadata": {
        "id": "T9lpv29sbW1n",
        "colab_type": "text"
      },
      "source": [
        "Vamos a leer la llave para poder usarla encriptando y desencriptando"
      ]
    },
    {
      "cell_type": "code",
      "metadata": {
        "id": "uKlPFGrFbTdX",
        "colab_type": "code",
        "colab": {}
      },
      "source": [
        "with open('llave.txt', 'rb+') as Llave:\n",
        "  mi_llave = Llave.read()"
      ],
      "execution_count": null,
      "outputs": []
    },
    {
      "cell_type": "markdown",
      "metadata": {
        "id": "PdFFO1P-zg9n",
        "colab_type": "text"
      },
      "source": [
        "Antes de encriptar o desencriptar hay que proporcionar la llave como"
      ]
    },
    {
      "cell_type": "code",
      "metadata": {
        "id": "HW-hsDcfzw6s",
        "colab_type": "code",
        "colab": {}
      },
      "source": [
        "Fernet_llave = Fernet(mi_llave)"
      ],
      "execution_count": null,
      "outputs": []
    },
    {
      "cell_type": "markdown",
      "metadata": {
        "id": "a7chygkRzzB3",
        "colab_type": "text"
      },
      "source": [
        "El resultado de la encriptación se conoce como \"token de Fernet\" y tiene garantías de seguridad y autenticación fuertes.\n",
        "\n",
        "Ahora sí podemos encriptar un mensaje."
      ]
    },
    {
      "cell_type": "code",
      "metadata": {
        "id": "QBW_ngJh0AOf",
        "colab_type": "code",
        "colab": {}
      },
      "source": [
        "token = Fernet_llave.encrypt(b\"Mi contraseña secreta\")"
      ],
      "execution_count": null,
      "outputs": []
    },
    {
      "cell_type": "markdown",
      "metadata": {
        "id": "B8jz5u9Q0DE4",
        "colab_type": "text"
      },
      "source": [
        "El método **.encrypt()** sólo acepta datos en **bytes**.\n",
        "\n",
        "Para desencriptar sólo hay que introducir el \"token\""
      ]
    },
    {
      "cell_type": "code",
      "metadata": {
        "id": "gjb_eY6C0b9y",
        "colab_type": "code",
        "colab": {}
      },
      "source": [
        "Fernet_llave.decrypt(token)"
      ],
      "execution_count": null,
      "outputs": []
    },
    {
      "cell_type": "markdown",
      "metadata": {
        "id": "C8q-DIKncUqg",
        "colab_type": "text"
      },
      "source": [
        "***Tu turno:*** Intenta encriptar un mensaje\n",
        "\n"
      ]
    },
    {
      "cell_type": "code",
      "metadata": {
        "id": "8bROoDmIbiFP",
        "colab_type": "code",
        "colab": {}
      },
      "source": [
        "mensaje = '' # Ingresa  aquí tu mensaje.\n",
        "Fernet_llave = Fernet(mi_llave)\n",
        "token = Fernet_llave.encrypt(bytes(mensaje, 'ascii'))\n",
        "print(token)"
      ],
      "execution_count": null,
      "outputs": []
    },
    {
      "cell_type": "markdown",
      "metadata": {
        "id": "4WQ8S0i8duhg",
        "colab_type": "text"
      },
      "source": [
        "Para desencriptar el mensaje sigue los siguientes pasos"
      ]
    },
    {
      "cell_type": "code",
      "metadata": {
        "id": "kQRDbT7RdCoH",
        "colab_type": "code",
        "colab": {}
      },
      "source": [
        "Fernet_llave.decrypt(token)"
      ],
      "execution_count": null,
      "outputs": []
    },
    {
      "cell_type": "markdown",
      "metadata": {
        "id": "mjmAVJ2K0HVi",
        "colab_type": "text"
      },
      "source": [
        "# **Contraseñas**"
      ]
    },
    {
      "cell_type": "markdown",
      "metadata": {
        "id": "2SE_VAEzeFIf",
        "colab_type": "text"
      },
      "source": [
        "Ingresa a la página [how secure is my password?](https://howsecureismypassword.net) y ve qué tan seguras son las siguientes contraseñas.\n",
        "*   12345\n",
        "*   g^\\j5~pcZ^\n",
        "*   7\\#E7-fD=d"
      ]
    },
    {
      "cell_type": "markdown",
      "metadata": {
        "id": "ZHyMJx8BfElW",
        "colab_type": "text"
      },
      "source": [
        "El siguiente es un programa sencillo, pero **ingenuo** para generar contraseñas"
      ]
    },
    {
      "cell_type": "code",
      "metadata": {
        "id": "fEXr_uL7fDoe",
        "colab_type": "code",
        "colab": {}
      },
      "source": [
        "cadena = string.ascii_letters + string.digits + string.punctuation\n",
        "longitud = 10\n",
        "contrasenha = ''\n",
        "for numero in range(longitud):\n",
        "  contrasenha += secrets.choice(cadena)\n",
        "print(contrasenha)"
      ],
      "execution_count": null,
      "outputs": []
    },
    {
      "cell_type": "markdown",
      "metadata": {
        "id": "kF9zkkeS1B3g",
        "colab_type": "text"
      },
      "source": [
        "Una contraseña es considerada segura si cumple las siguientes condiciones\n",
        "1.   Tiene una longitud mayor o igual a 12\n",
        "2.   Contiene al menos una letra en minúscula\n",
        "3.   Contiene al menos una letra en mayúscula\n",
        "4.   Contiene al menos un número\n",
        "5.   Contiene al menos un símbolo de puntuación\n",
        "6.   No contiene caracteres iguales consecutivos"
      ]
    },
    {
      "cell_type": "markdown",
      "metadata": {
        "id": "Nz9iK8ud06Tq",
        "colab_type": "text"
      },
      "source": [
        "Antes de escribir un programa sencillo que cumpla con los requerimientos anteriores, creemos una función en python (similar a los métodos **isupper()**, **islower()** e **isdigit()** para detectar elementos en **string.puntuation**:"
      ]
    },
    {
      "cell_type": "code",
      "metadata": {
        "id": "8E6wjrvXd-gu",
        "colab_type": "code",
        "colab": {}
      },
      "source": [
        "def ispunctuation(caracter):\n",
        "    if caracter in string.punctuation:\n",
        "        return True\n",
        "    return False"
      ],
      "execution_count": null,
      "outputs": []
    },
    {
      "cell_type": "markdown",
      "metadata": {
        "id": "vpooACgG1WEx",
        "colab_type": "text"
      },
      "source": [
        "Hagamos uso de la función anterior para crear un mejor generador de contraseñas"
      ]
    },
    {
      "cell_type": "code",
      "metadata": {
        "id": "kzqztvang4tN",
        "colab_type": "code",
        "colab": {}
      },
      "source": [
        "longitud = int(input('Longitud que desea para su contraseña (solo enteros mayores que 12): '))\n",
        "while True:\n",
        "    contrasena = ''.join(secrets.choice(cadena) for i in range(longitud))\n",
        "    if (any(c.islower() for c in contrasena)\n",
        "      and any(c.isupper() for c in contrasena)\n",
        "      and sum(c.isdigit() for c in contrasena) >= 1\n",
        "      and any(ispunctuation(c) for c in contrasena) \n",
        "      and all(contrasena[k] != contrasena[k-1] for k in range(1, longitud - 1))):\n",
        "        break\n",
        "print(contrasena)"
      ],
      "execution_count": null,
      "outputs": []
    },
    {
      "cell_type": "markdown",
      "metadata": {
        "id": "NJesqXCTjSUG",
        "colab_type": "text"
      },
      "source": [
        "¿Como mejorar el programa anterior?\n",
        "\n",
        "Podemos crear una función, digamos **def contrasena(llave)**\n",
        "la cual, además de preguntar la longitud, también pregunte la cuenta, y el usuario para cuál se creerá la contraseña.\n",
        "Y que además almacene, de forma encriptada, en un archivo: la cuenta, el usuario y la contraseña generada."
      ]
    },
    {
      "cell_type": "code",
      "metadata": {
        "id": "YwdoGoh_hfIG",
        "colab_type": "code",
        "colab": {}
      },
      "source": [
        "def contrasena(llave):\n",
        "    usuario = str(input('Ingrese su usuario: '))\n",
        "    cuenta = str(input('Ingrese cuenta: '))\n",
        "    longitud = int(input('Ingrese la longitud que desea para su contraseña (solo enteros mayores que 12):'))\n",
        "    while True:\n",
        "        contrasena = ''.join(secrets.choice(cadena) for i in range(longitud))\n",
        "        if (any(c.islower() for c in contrasena) \n",
        "        and any(c.isupper() for c in contrasena) \n",
        "        and sum(c.isdigit() for c in contrasena) >= 1 \n",
        "        and any(ispunctuation(c) for c in contrasena) \n",
        "        and all(contrasena[k] != contrasena[k-1] for k in range(1, longitud - 1))):\n",
        "            break\n",
        "    texto_a_cifrar = '   usuario: ' + usuario + '   cuenta: ' + cuenta + '   contrasenha: ' + contrasena + '   '\n",
        "    Fernet_llave = Fernet(llave)\n",
        "    texto_cifrado = Fernet_llave.encrypt(bytes(texto_a_cifrar, 'ascii'))\n",
        "    texto = open('contraseña.txt', 'ab+')\n",
        "    return texto.write(texto_cifrado)"
      ],
      "execution_count": null,
      "outputs": []
    },
    {
      "cell_type": "code",
      "metadata": {
        "id": "8ywa2OwpkIrk",
        "colab_type": "code",
        "colab": {}
      },
      "source": [
        "contrasena(mi_llave)"
      ],
      "execution_count": null,
      "outputs": []
    },
    {
      "cell_type": "markdown",
      "metadata": {
        "id": "c1uBgGv3kyJ1",
        "colab_type": "text"
      },
      "source": [
        "¿Podemos mejorar aún más el programa?\n",
        "\n",
        "Que tal crear una función, digamos\n",
        "**def contrasenas(llave)** que pregunte el número de contraseñas a crear, use la función **def contrasena()** (con una leve modificación y esta vez sin recibir la llave como entrada) para almacenar, de forma encriptada, en un archivo: las cuentas con el respectivo usuario y contraseña generada."
      ]
    },
    {
      "cell_type": "code",
      "metadata": {
        "id": "FatXDRDykOKm",
        "colab_type": "code",
        "colab": {}
      },
      "source": [
        "def contrasena():\n",
        "    usuario = str(input('Ingrese su usuario: '))\n",
        "    cuenta = str(input('Ingrese cuenta: '))\n",
        "    longitud = int(input('Ingrese la longitud que desea para su contraseña (solo enteros mayores que 12):'))\n",
        "    while True:\n",
        "        contrasena = ''.join(secrets.choice(cadena) for i in range(longitud))\n",
        "        if (any(c.islower() for c in contrasena) \n",
        "        and any(c.isupper() for c in contrasena) \n",
        "        and sum(c.isdigit() for c in contrasena) >= 1 \n",
        "        and any(ispunctuation(c) for c in contrasena) \n",
        "        and all(contrasena[k] != contrasena[k-1] for k in range(1, longitud - 1))):\n",
        "            break\n",
        "    return '   usuario: ' + usuario + '   cuenta: ' + cuenta + '   contrasenha: ' + contrasena + '   '\n",
        "\n",
        "def contrasenas(llave):\n",
        "    veces = int(input('Ingrese número de contraseñas a crear: '))\n",
        "    texto = open('contraseñas.txt', 'ab+')\n",
        "    for k in range(veces):\n",
        "        texto_a_cifrar = contrasena()\n",
        "        conjunto_de_cifrado = Fernet(llave)\n",
        "        texto_cifrado = conjunto_de_cifrado.encrypt(bytes(texto_a_cifrar, 'ascii'))\n",
        "        texto.write(texto_cifrado)\n",
        "        texto.write(b'\\n')"
      ],
      "execution_count": null,
      "outputs": []
    },
    {
      "cell_type": "code",
      "metadata": {
        "id": "XsrcmX1Olaf9",
        "colab_type": "code",
        "colab": {}
      },
      "source": [
        "contrasenas(mi_llave)"
      ],
      "execution_count": null,
      "outputs": []
    },
    {
      "cell_type": "markdown",
      "metadata": {
        "id": "-VgsN4iklvJE",
        "colab_type": "text"
      },
      "source": [
        "***Tu turno:*** Desencriptalas!"
      ]
    },
    {
      "cell_type": "code",
      "metadata": {
        "id": "vQ_aw-53lhVl",
        "colab_type": "code",
        "colab": {}
      },
      "source": [
        "with open(' ', 'rb') as para_desencriptar: # Ingresa el nombre del archivo\n",
        "  informacion = para_desencriptar.readlines()\n",
        "  conjunto_de_cifrado = Fernet( ) # Ingresa la llave\n",
        "  for k in range(len(informacion)):\n",
        "    print(conjunto_de_cifrado.decrypt(informacion[k]))"
      ],
      "execution_count": null,
      "outputs": []
    }
  ]
}